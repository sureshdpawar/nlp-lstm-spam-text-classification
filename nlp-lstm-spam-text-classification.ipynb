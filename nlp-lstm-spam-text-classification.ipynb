{
 "metadata": {
  "kernelspec": {
   "display_name": "Python 3",
   "language": "python",
   "name": "python3"
  },
  "language_info": {
   "codemirror_mode": {
    "name": "ipython",
    "version": 3
   },
   "file_extension": ".py",
   "mimetype": "text/x-python",
   "name": "python",
   "nbconvert_exporter": "python",
   "pygments_lexer": "ipython3",
   "version": "3.7.6"
  },
  "papermill": {
   "duration": 166.674488,
   "end_time": "2020-10-05T01:21:31.565739",
   "environment_variables": {},
   "exception": null,
   "input_path": "__notebook__.ipynb",
   "output_path": "__notebook__.ipynb",
   "parameters": {},
   "start_time": "2020-10-05T01:18:44.891251",
   "version": "2.1.0"
  },
  "kaggle": {
   "accelerator": "none",
   "dataSources": [
    {
     "sourceId": 7516401,
     "sourceType": "datasetVersion",
     "datasetId": 4378186
    }
   ],
   "dockerImageVersionId": 30646,
   "isInternetEnabled": true,
   "language": "python",
   "sourceType": "notebook",
   "isGpuEnabled": false
  }
 },
 "nbformat_minor": 4,
 "nbformat": 4,
 "cells": [
  {
   "cell_type": "markdown",
   "source": [
    "# Use Cases : Spam Text Classification "
   ],
   "metadata": {
    "papermill": {
     "duration": 0.025721,
     "end_time": "2020-10-05T01:18:49.433733",
     "exception": false,
     "start_time": "2020-10-05T01:18:49.408012",
     "status": "completed"
    },
    "tags": []
   }
  },
  {
   "cell_type": "markdown",
   "source": [
    "# Practical Example"
   ],
   "metadata": {
    "papermill": {
     "duration": 0.025709,
     "end_time": "2020-10-05T01:18:49.589211",
     "exception": false,
     "start_time": "2020-10-05T01:18:49.563502",
     "status": "completed"
    },
    "tags": []
   }
  },
  {
   "cell_type": "code",
   "source": [
    "import pandas as pd\n",
    "import numpy as np\n",
    "from tqdm import tqdm\n",
    "from keras.preprocessing.text import Tokenizer\n",
    "tqdm.pandas(desc=\"progress-bar\")\n",
    "from gensim.models import Doc2Vec\n",
    "from sklearn import utils\n",
    "from sklearn.model_selection import train_test_split\n",
    "from keras.preprocessing.sequence import pad_sequences\n",
    "import gensim\n",
    "from sklearn.linear_model import LogisticRegression\n",
    "from gensim.models.doc2vec import TaggedDocument\n",
    "import re\n",
    "import seaborn as sns\n",
    "import matplotlib.pyplot as plt"
   ],
   "metadata": {
    "_cell_guid": "b1076dfc-b9ad-4769-8c92-a6c4dae69d19",
    "_uuid": "8f2839f25d086af736a60e9eeb907d3b93b6e0e5",
    "execution": {
     "iopub.execute_input": "2020-10-05T01:18:49.648447Z",
     "iopub.status.busy": "2020-10-05T01:18:49.647785Z",
     "iopub.status.idle": "2020-10-05T01:18:57.011155Z",
     "shell.execute_reply": "2020-10-05T01:18:57.010603Z"
    },
    "papermill": {
     "duration": 7.396026,
     "end_time": "2020-10-05T01:18:57.011338",
     "exception": false,
     "start_time": "2020-10-05T01:18:49.615312",
     "status": "completed"
    },
    "tags": []
   },
   "execution_count": 1,
   "outputs": [
    {
     "name": "stderr",
     "output_type": "stream",
     "text": "/opt/conda/lib/python3.7/site-packages/tqdm/std.py:666: FutureWarning: The Panel class is removed from pandas. Accessing it from the top-level namespace will also be removed in the next version\n\n  from pandas import Panel\n"
    }
   ]
  },
  {
   "cell_type": "markdown",
   "source": [
    "Read Dataset"
   ],
   "metadata": {
    "papermill": {
     "duration": 0.026202,
     "end_time": "2020-10-05T01:18:57.065069",
     "exception": false,
     "start_time": "2020-10-05T01:18:57.038867",
     "status": "completed"
    },
    "tags": []
   }
  },
  {
   "cell_type": "code",
   "source": [
    "df = pd.read_csv('../input/spam-text-message-classification/SPAM text message 20170820 - Data.csv',delimiter=',',encoding='latin-1')\n",
    "df = df[['Category','Message']]\n",
    "df = df[pd.notnull(df['Message'])]\n",
    "df.rename(columns = {'Message':'Message'}, inplace = True)\n",
    "df.head()"
   ],
   "metadata": {
    "execution": {
     "iopub.execute_input": "2020-10-05T01:18:57.125178Z",
     "iopub.status.busy": "2020-10-05T01:18:57.124490Z",
     "iopub.status.idle": "2020-10-05T01:18:57.180713Z",
     "shell.execute_reply": "2020-10-05T01:18:57.181214Z"
    },
    "papermill": {
     "duration": 0.08967,
     "end_time": "2020-10-05T01:18:57.181376",
     "exception": false,
     "start_time": "2020-10-05T01:18:57.091706",
     "status": "completed"
    },
    "tags": []
   },
   "execution_count": 2,
   "outputs": [
    {
     "execution_count": 2,
     "output_type": "execute_result",
     "data": {
      "text/html": [
       "<div>\n",
       "<style scoped>\n",
       "    .dataframe tbody tr th:only-of-type {\n",
       "        vertical-align: middle;\n",
       "    }\n",
       "\n",
       "    .dataframe tbody tr th {\n",
       "        vertical-align: top;\n",
       "    }\n",
       "\n",
       "    .dataframe thead th {\n",
       "        text-align: right;\n",
       "    }\n",
       "</style>\n",
       "<table border=\"1\" class=\"dataframe\">\n",
       "  <thead>\n",
       "    <tr style=\"text-align: right;\">\n",
       "      <th></th>\n",
       "      <th>Category</th>\n",
       "      <th>Message</th>\n",
       "    </tr>\n",
       "  </thead>\n",
       "  <tbody>\n",
       "    <tr>\n",
       "      <th>0</th>\n",
       "      <td>ham</td>\n",
       "      <td>Go until jurong point, crazy.. Available only ...</td>\n",
       "    </tr>\n",
       "    <tr>\n",
       "      <th>1</th>\n",
       "      <td>ham</td>\n",
       "      <td>Ok lar... Joking wif u oni...</td>\n",
       "    </tr>\n",
       "    <tr>\n",
       "      <th>2</th>\n",
       "      <td>spam</td>\n",
       "      <td>Free entry in 2 a wkly comp to win FA Cup fina...</td>\n",
       "    </tr>\n",
       "    <tr>\n",
       "      <th>3</th>\n",
       "      <td>ham</td>\n",
       "      <td>U dun say so early hor... U c already then say...</td>\n",
       "    </tr>\n",
       "    <tr>\n",
       "      <th>4</th>\n",
       "      <td>ham</td>\n",
       "      <td>Nah I don't think he goes to usf, he lives aro...</td>\n",
       "    </tr>\n",
       "  </tbody>\n",
       "</table>\n",
       "</div>"
      ],
      "text/plain": [
       "  Category                                            Message\n",
       "0      ham  Go until jurong point, crazy.. Available only ...\n",
       "1      ham                      Ok lar... Joking wif u oni...\n",
       "2     spam  Free entry in 2 a wkly comp to win FA Cup fina...\n",
       "3      ham  U dun say so early hor... U c already then say...\n",
       "4      ham  Nah I don't think he goes to usf, he lives aro..."
      ]
     },
     "metadata": {}
    }
   ]
  },
  {
   "cell_type": "code",
   "source": [
    "df.shape"
   ],
   "metadata": {
    "_cell_guid": "79c7e3d0-c299-4dcb-8224-4455121ee9b0",
    "_uuid": "d629ff2d2480ee46fbb7e2d37f6b5fab8052498a",
    "execution": {
     "iopub.execute_input": "2020-10-05T01:18:57.240538Z",
     "iopub.status.busy": "2020-10-05T01:18:57.239589Z",
     "iopub.status.idle": "2020-10-05T01:18:57.243350Z",
     "shell.execute_reply": "2020-10-05T01:18:57.242794Z"
    },
    "papermill": {
     "duration": 0.03518,
     "end_time": "2020-10-05T01:18:57.243466",
     "exception": false,
     "start_time": "2020-10-05T01:18:57.208286",
     "status": "completed"
    },
    "tags": []
   },
   "execution_count": 3,
   "outputs": [
    {
     "execution_count": 3,
     "output_type": "execute_result",
     "data": {
      "text/plain": [
       "(5572, 2)"
      ]
     },
     "metadata": {}
    }
   ]
  },
  {
   "cell_type": "code",
   "source": [
    "df.index = range(5572)\n",
    "df['Message'].apply(lambda x: len(x.split(' '))).sum()"
   ],
   "metadata": {
    "execution": {
     "iopub.execute_input": "2020-10-05T01:18:57.313889Z",
     "iopub.status.busy": "2020-10-05T01:18:57.313076Z",
     "iopub.status.idle": "2020-10-05T01:18:57.316946Z",
     "shell.execute_reply": "2020-10-05T01:18:57.317401Z"
    },
    "papermill": {
     "duration": 0.046333,
     "end_time": "2020-10-05T01:18:57.317547",
     "exception": false,
     "start_time": "2020-10-05T01:18:57.271214",
     "status": "completed"
    },
    "tags": []
   },
   "execution_count": 4,
   "outputs": [
    {
     "execution_count": 4,
     "output_type": "execute_result",
     "data": {
      "text/plain": [
       "87265"
      ]
     },
     "metadata": {}
    }
   ]
  },
  {
   "cell_type": "markdown",
   "source": [
    "VISUALIZING THE DATA"
   ],
   "metadata": {
    "papermill": {
     "duration": 0.027071,
     "end_time": "2020-10-05T01:18:57.372222",
     "exception": false,
     "start_time": "2020-10-05T01:18:57.345151",
     "status": "completed"
    },
    "tags": []
   }
  },
  {
   "cell_type": "code",
   "source": [
    "cnt_pro = df['Category'].value_counts()\n",
    "plt.figure(figsize=(12,4))\n",
    "sns.barplot(cnt_pro.index, cnt_pro.values, alpha=0.8)\n",
    "plt.ylabel('Number of Occurrences', fontsize=12)\n",
    "plt.xlabel('Category', fontsize=12)\n",
    "plt.xticks(rotation=90)\n",
    "plt.show();"
   ],
   "metadata": {
    "execution": {
     "iopub.execute_input": "2020-10-05T01:18:57.435230Z",
     "iopub.status.busy": "2020-10-05T01:18:57.434605Z",
     "iopub.status.idle": "2020-10-05T01:18:57.596722Z",
     "shell.execute_reply": "2020-10-05T01:18:57.597160Z"
    },
    "papermill": {
     "duration": 0.197726,
     "end_time": "2020-10-05T01:18:57.597339",
     "exception": false,
     "start_time": "2020-10-05T01:18:57.399613",
     "status": "completed"
    },
    "tags": []
   },
   "execution_count": 5,
   "outputs": [
    {
     "output_type": "display_data",
     "data": {
      "image/png": "[encoded data removed]",
      "text/plain": [
       "<Figure size 864x288 with 1 Axes>"
      ]
     },
     "metadata": {
      "needs_background": "light"
     }
    }
   ]
  },
  {
   "cell_type": "code",
   "source": [
    "def print_message(index):\n",
    "    example = df[df.index == index][['Message', 'Category']].values[0]\n",
    "    if len(example) > 0:\n",
    "        print(example[0])\n",
    "        print('Message:', example[1])\n",
    "print_message(12)"
   ],
   "metadata": {
    "execution": {
     "iopub.execute_input": "2020-10-05T01:18:57.661109Z",
     "iopub.status.busy": "2020-10-05T01:18:57.660385Z",
     "iopub.status.idle": "2020-10-05T01:18:57.664845Z",
     "shell.execute_reply": "2020-10-05T01:18:57.664295Z"
    },
    "papermill": {
     "duration": 0.039449,
     "end_time": "2020-10-05T01:18:57.664960",
     "exception": false,
     "start_time": "2020-10-05T01:18:57.625511",
     "status": "completed"
    },
    "tags": []
   },
   "execution_count": 6,
   "outputs": [
    {
     "name": "stdout",
     "output_type": "stream",
     "text": "URGENT! You have won a 1 week FREE membership in our Â£100,000 Prize Jackpot! Txt the word: CLAIM to No: 81010 T&C www.dbuk.net LCCLTD POBOX 4403LDNW1A7RW18\n\nMessage: spam\n"
    }
   ]
  },
  {
   "cell_type": "code",
   "source": [
    "print_message(0)"
   ],
   "metadata": {
    "execution": {
     "iopub.execute_input": "2020-10-05T01:18:57.727963Z",
     "iopub.status.busy": "2020-10-05T01:18:57.727330Z",
     "iopub.status.idle": "2020-10-05T01:18:57.730151Z",
     "shell.execute_reply": "2020-10-05T01:18:57.730741Z"
    },
    "papermill": {
     "duration": 0.03747,
     "end_time": "2020-10-05T01:18:57.730886",
     "exception": false,
     "start_time": "2020-10-05T01:18:57.693416",
     "status": "completed"
    },
    "tags": []
   },
   "execution_count": 7,
   "outputs": [
    {
     "name": "stdout",
     "output_type": "stream",
     "text": "Go until jurong point, crazy.. Available only in bugis n great world la e buffet... Cine there got amore wat...\n\nMessage: ham\n"
    }
   ]
  },
  {
   "cell_type": "markdown",
   "source": [
    "Text Preprocessing Below we define a function to convert text to lower-case and strip punctuation/symbols from words and so on."
   ],
   "metadata": {
    "papermill": {
     "duration": 0.028191,
     "end_time": "2020-10-05T01:18:57.787679",
     "exception": false,
     "start_time": "2020-10-05T01:18:57.759488",
     "status": "completed"
    },
    "tags": []
   }
  },
  {
   "cell_type": "code",
   "source": [
    "from bs4 import BeautifulSoup\n",
    "def cleanText(text):\n",
    "    text = BeautifulSoup(text, \"lxml\").text\n",
    "    text = re.sub(r'\\|\\|\\|', r' ', text) \n",
    "    text = re.sub(r'http\\S+', r'<URL>', text)\n",
    "    text = text.lower()\n",
    "    text = text.replace('x', '')\n",
    "    return text\n",
    "df['Message'] = df['Message'].apply(cleanText)"
   ],
   "metadata": {
    "execution": {
     "iopub.execute_input": "2020-10-05T01:18:57.851856Z",
     "iopub.status.busy": "2020-10-05T01:18:57.851034Z",
     "iopub.status.idle": "2020-10-05T01:18:59.249432Z",
     "shell.execute_reply": "2020-10-05T01:18:59.248746Z"
    },
    "papermill": {
     "duration": 1.433243,
     "end_time": "2020-10-05T01:18:59.249542",
     "exception": false,
     "start_time": "2020-10-05T01:18:57.816299",
     "status": "completed"
    },
    "tags": []
   },
   "execution_count": 8,
   "outputs": []
  },
  {
   "cell_type": "code",
   "source": [
    "df['Message'] = df['Message'].apply(cleanText)\n",
    "train, test = train_test_split(df, test_size=0.000001 , random_state=42)\n",
    "import nltk\n",
    "from nltk.corpus import stopwords\n",
    "def tokenize_text(text):\n",
    "    tokens = []\n",
    "    for sent in nltk.sent_tokenize(text):\n",
    "        for word in nltk.word_tokenize(sent):\n",
    "            #if len(word) < 0:\n",
    "            if len(word) <= 0:\n",
    "                continue\n",
    "            tokens.append(word.lower())\n",
    "    return tokens\n",
    "train_tagged = train.apply(\n",
    "    lambda r: TaggedDocument(words=tokenize_text(r['Message']), tags=[r.Category]), axis=1)\n",
    "test_tagged = test.apply(\n",
    "    lambda r: TaggedDocument(words=tokenize_text(r['Message']), tags=[r.Category]), axis=1)\n",
    "\n",
    "# The maximum number of words to be used. (most frequent)\n",
    "max_fatures = 500000\n",
    "\n",
    "# Max number of words in each complaint.\n",
    "MAX_SEQUENCE_LENGTH = 50\n",
    "\n",
    "#tokenizer = Tokenizer(num_words=max_fatures, split=' ')\n",
    "tokenizer = Tokenizer(num_words=max_fatures, split=' ', filters='!\"#$%&()*+,-./:;<=>?@[\\]^_`{|}~', lower=True)\n",
    "tokenizer.fit_on_texts(df['Message'].values)\n",
    "X = tokenizer.texts_to_sequences(df['Message'].values)\n",
    "X = pad_sequences(X)\n",
    "print('Found %s unique tokens.' % len(X))"
   ],
   "metadata": {
    "execution": {
     "iopub.execute_input": "2020-10-05T01:18:59.320415Z",
     "iopub.status.busy": "2020-10-05T01:18:59.315271Z",
     "iopub.status.idle": "2020-10-05T01:19:03.167105Z",
     "shell.execute_reply": "2020-10-05T01:19:03.166463Z"
    },
    "papermill": {
     "duration": 3.888841,
     "end_time": "2020-10-05T01:19:03.167222",
     "exception": false,
     "start_time": "2020-10-05T01:18:59.278381",
     "status": "completed"
    },
    "tags": []
   },
   "execution_count": 9,
   "outputs": [
    {
     "name": "stdout",
     "output_type": "stream",
     "text": "Found 5572 unique tokens.\n"
    }
   ]
  },
  {
   "cell_type": "code",
   "source": [
    "X = tokenizer.texts_to_sequences(df['Message'].values)\n",
    "X = pad_sequences(X, maxlen=MAX_SEQUENCE_LENGTH)\n",
    "print('Shape of data tensor:', X.shape)"
   ],
   "metadata": {
    "execution": {
     "iopub.execute_input": "2020-10-05T01:19:03.269820Z",
     "iopub.status.busy": "2020-10-05T01:19:03.264784Z",
     "iopub.status.idle": "2020-10-05T01:19:03.357792Z",
     "shell.execute_reply": "2020-10-05T01:19:03.357033Z"
    },
    "papermill": {
     "duration": 0.161222,
     "end_time": "2020-10-05T01:19:03.357970",
     "exception": false,
     "start_time": "2020-10-05T01:19:03.196748",
     "status": "completed"
    },
    "tags": []
   },
   "execution_count": 10,
   "outputs": [
    {
     "name": "stdout",
     "output_type": "stream",
     "text": "Shape of data tensor: (5572, 50)\n"
    }
   ]
  },
  {
   "cell_type": "code",
   "source": [
    "#train_tagged.values[2173]\n",
    "train_tagged.values"
   ],
   "metadata": {
    "execution": {
     "iopub.execute_input": "2020-10-05T01:19:03.423266Z",
     "iopub.status.busy": "2020-10-05T01:19:03.422404Z",
     "iopub.status.idle": "2020-10-05T01:19:03.426850Z",
     "shell.execute_reply": "2020-10-05T01:19:03.426078Z"
    },
    "papermill": {
     "duration": 0.038354,
     "end_time": "2020-10-05T01:19:03.426988",
     "exception": false,
     "start_time": "2020-10-05T01:19:03.388634",
     "status": "completed"
    },
    "tags": []
   },
   "execution_count": 11,
   "outputs": [
    {
     "execution_count": 11,
     "output_type": "execute_result",
     "data": {
      "text/plain": [
       "array([TaggedDocument(words=['and', 'also', 'i', \"'ve\", 'sorta', 'blown', 'him', 'off', 'a', 'couple', 'times', 'recently', 'so', 'id', 'rather', 'not', 'tet', 'him', 'out', 'of', 'the', 'blue', 'looking', 'for', 'weed'], tags=['ham']),\n",
       "       TaggedDocument(words=['mmm', 'thats', 'better', 'now', 'i', 'got', 'a', 'roast', 'down', 'me', '!', 'iâ\\x92d', 'b', 'better', 'if', 'i', 'had', 'a', 'few', 'drinks', 'down', 'me', '2', '!', 'good', 'indian', '?'], tags=['ham']),\n",
       "       TaggedDocument(words=['mm', 'have', 'some', 'kanji', 'dont', 'eat', 'anything', 'heavy', 'ok'], tags=['ham']),\n",
       "       ...,\n",
       "       TaggedDocument(words=['prabha..i', \"'m\", 'soryda..realy..frm', 'heart', 'i', \"'m\", 'sory'], tags=['ham']),\n",
       "       TaggedDocument(words=['nt', 'joking', 'seriously', 'i', 'told'], tags=['ham']),\n",
       "       TaggedDocument(words=['did', 'he', 'just', 'say', 'somebody', 'is', 'named', 'tampa'], tags=['ham'])],\n",
       "      dtype=object)"
      ]
     },
     "metadata": {}
    }
   ]
  },
  {
   "cell_type": "markdown",
   "source": [
    "Model DM = 1\n",
    "\n",
    "This work use DM=1 (it preserve word order)"
   ],
   "metadata": {
    "papermill": {
     "duration": 0.030785,
     "end_time": "2020-10-05T01:19:03.489054",
     "exception": false,
     "start_time": "2020-10-05T01:19:03.458269",
     "status": "completed"
    },
    "tags": []
   }
  },
  {
   "cell_type": "code",
   "source": [
    "d2v_model = Doc2Vec(dm=1, dm_mean=1, size=20, window=8, min_count=1, workers=1, alpha=0.065, min_alpha=0.065)\n",
    "d2v_model.build_vocab([x for x in tqdm(train_tagged.values)])\n"
   ],
   "metadata": {
    "execution": {
     "iopub.execute_input": "2020-10-05T01:19:03.557730Z",
     "iopub.status.busy": "2020-10-05T01:19:03.557064Z",
     "iopub.status.idle": "2020-10-05T01:19:05.818670Z",
     "shell.execute_reply": "2020-10-05T01:19:05.817959Z"
    },
    "papermill": {
     "duration": 2.298341,
     "end_time": "2020-10-05T01:19:05.818788",
     "exception": false,
     "start_time": "2020-10-05T01:19:03.520447",
     "status": "completed"
    },
    "tags": []
   },
   "execution_count": 12,
   "outputs": [
    {
     "name": "stderr",
     "output_type": "stream",
     "text": "/opt/conda/lib/python3.7/site-packages/gensim/models/doc2vec.py:319: UserWarning: The parameter `size` is deprecated, will be removed in 4.0.0, use `vector_size` instead.\n\n  warnings.warn(\"The parameter `size` is deprecated, will be removed in 4.0.0, use `vector_size` instead.\")\n\n100%|██████████| 5571/5571 [00:00<00:00, 2063993.25it/s]\n"
    }
   ]
  },
  {
   "cell_type": "code",
   "source": [
    "%%time\n",
    "for epoch in range(30):\n",
    "    d2v_model.train(utils.shuffle([x for x in tqdm(train_tagged.values)]), total_examples=len(train_tagged.values), epochs=1)\n",
    "    d2v_model.alpha -= 0.002\n",
    "    d2v_model.min_alpha = d2v_model.alpha"
   ],
   "metadata": {
    "execution": {
     "iopub.execute_input": "2020-10-05T01:19:05.886405Z",
     "iopub.status.busy": "2020-10-05T01:19:05.885713Z",
     "iopub.status.idle": "2020-10-05T01:19:17.297968Z",
     "shell.execute_reply": "2020-10-05T01:19:17.298870Z"
    },
    "papermill": {
     "duration": 11.449623,
     "end_time": "2020-10-05T01:19:17.299148",
     "exception": false,
     "start_time": "2020-10-05T01:19:05.849525",
     "status": "completed"
    },
    "tags": []
   },
   "execution_count": 13,
   "outputs": [
    {
     "name": "stderr",
     "output_type": "stream",
     "text": "100%|██████████| 5571/5571 [00:00<00:00, 2317412.24it/s]\n\n100%|██████████| 5571/5571 [00:00<00:00, 2210013.01it/s]\n\n100%|██████████| 5571/5571 [00:00<00:00, 2024297.63it/s]\n\n100%|██████████| 5571/5571 [00:00<00:00, 2213362.47it/s]\n\n100%|██████████| 5571/5571 [00:00<00:00, 2325253.02it/s]\n\n100%|██████████| 5571/5571 [00:00<00:00, 2216932.41it/s]\n\n100%|██████████| 5571/5571 [00:00<00:00, 2223260.47it/s]\n\n100%|██████████| 5571/5571 [00:00<00:00, 1617840.31it/s]\n\n100%|██████████| 5571/5571 [00:00<00:00, 2130616.17it/s]\n\n100%|██████████| 5571/5571 [00:00<00:00, 2248289.00it/s]\n\n100%|██████████| 5571/5571 [00:00<00:00, 2134508.78it/s]\n\n100%|██████████| 5571/5571 [00:00<00:00, 2324327.82it/s]\n\n100%|██████████| 5571/5571 [00:00<00:00, 1783427.54it/s]\n\n100%|██████████| 5571/5571 [00:00<00:00, 2083872.97it/s]\n\n100%|██████████| 5571/5571 [00:00<00:00, 2168380.44it/s]\n\n100%|██████████| 5571/5571 [00:00<00:00, 2232820.60it/s]\n\n100%|██████████| 5571/5571 [00:00<00:00, 1247076.24it/s]\n\n100%|██████████| 5571/5571 [00:00<00:00, 1924274.69it/s]\n\n100%|██████████| 5571/5571 [00:00<00:00, 1902032.36it/s]\n\n100%|██████████| 5571/5571 [00:00<00:00, 1944289.20it/s]\n\n100%|██████████| 5571/5571 [00:00<00:00, 2130616.17it/s]\n\n100%|██████████| 5571/5571 [00:00<00:00, 2254797.61it/s]\n\n100%|██████████| 5571/5571 [00:00<00:00, 2275215.93it/s]\n\n100%|██████████| 5571/5571 [00:00<00:00, 1975688.47it/s]\n\n100%|██████████| 5571/5571 [00:00<00:00, 2161360.43it/s]\n\n100%|██████████| 5571/5571 [00:00<00:00, 2172210.43it/s]\n\n100%|██████████| 5571/5571 [00:00<00:00, 2241602.80it/s]\n\n100%|██████████| 5571/5571 [00:00<00:00, 2239454.44it/s]\n\n100%|██████████| 5571/5571 [00:00<00:00, 1807011.65it/s]\n\n100%|██████████| 5571/5571 [00:00<00:00, 2197335.68it/s]\n"
    },
    {
     "name": "stdout",
     "output_type": "stream",
     "text": "CPU times: user 11.4 s, sys: 121 ms, total: 11.5 s\n\nWall time: 11.4 s\n"
    }
   ]
  },
  {
   "cell_type": "code",
   "source": [
    "print(d2v_model)\n"
   ],
   "metadata": {
    "execution": {
     "iopub.execute_input": "2020-10-05T01:19:17.431464Z",
     "iopub.status.busy": "2020-10-05T01:19:17.430666Z",
     "iopub.status.idle": "2020-10-05T01:19:17.434788Z",
     "shell.execute_reply": "2020-10-05T01:19:17.434180Z"
    },
    "papermill": {
     "duration": 0.063869,
     "end_time": "2020-10-05T01:19:17.434906",
     "exception": false,
     "start_time": "2020-10-05T01:19:17.371037",
     "status": "completed"
    },
    "tags": []
   },
   "execution_count": 14,
   "outputs": [
    {
     "name": "stdout",
     "output_type": "stream",
     "text": "Doc2Vec(dm/m,d20,n5,w8,s0.001)\n"
    }
   ]
  },
  {
   "cell_type": "code",
   "source": [
    "len(d2v_model.wv.vocab)\n"
   ],
   "metadata": {
    "execution": {
     "iopub.execute_input": "2020-10-05T01:19:17.552003Z",
     "iopub.status.busy": "2020-10-05T01:19:17.551313Z",
     "iopub.status.idle": "2020-10-05T01:19:17.555857Z",
     "shell.execute_reply": "2020-10-05T01:19:17.555256Z"
    },
    "papermill": {
     "duration": 0.065241,
     "end_time": "2020-10-05T01:19:17.555966",
     "exception": false,
     "start_time": "2020-10-05T01:19:17.490725",
     "status": "completed"
    },
    "tags": []
   },
   "execution_count": 15,
   "outputs": [
    {
     "execution_count": 15,
     "output_type": "execute_result",
     "data": {
      "text/plain": [
       "9757"
      ]
     },
     "metadata": {}
    }
   ]
  },
  {
   "cell_type": "code",
   "source": [
    "# save the vectors in a new matrix\n",
    "embedding_matrix = np.zeros((len(d2v_model.wv.vocab)+ 1, 20))\n",
    "\n",
    "for i, vec in enumerate(d2v_model.docvecs.vectors_docs):\n",
    "    while i in vec <= 1000:\n",
    "    #print(i)\n",
    "    #print(model.docvecs)\n",
    "          embedding_matrix[i]=vec\n",
    "    #print(vec)\n",
    "    #print(vec[i])"
   ],
   "metadata": {
    "execution": {
     "iopub.execute_input": "2020-10-05T01:19:17.675386Z",
     "iopub.status.busy": "2020-10-05T01:19:17.674656Z",
     "iopub.status.idle": "2020-10-05T01:19:17.678629Z",
     "shell.execute_reply": "2020-10-05T01:19:17.677978Z"
    },
    "papermill": {
     "duration": 0.066276,
     "end_time": "2020-10-05T01:19:17.678744",
     "exception": false,
     "start_time": "2020-10-05T01:19:17.612468",
     "status": "completed"
    },
    "tags": []
   },
   "execution_count": 16,
   "outputs": []
  },
  {
   "cell_type": "markdown",
   "source": [
    "# Measuring distance between two vectors (related to cosine similarity)"
   ],
   "metadata": {
    "papermill": {
     "duration": 0.056188,
     "end_time": "2020-10-05T01:19:17.792133",
     "exception": false,
     "start_time": "2020-10-05T01:19:17.735945",
     "status": "completed"
    },
    "tags": []
   }
  },
  {
   "cell_type": "code",
   "source": [
    "d2v_model.wv.most_similar(positive=['urgent'], topn=10)\n"
   ],
   "metadata": {
    "execution": {
     "iopub.execute_input": "2020-10-05T01:19:17.911424Z",
     "iopub.status.busy": "2020-10-05T01:19:17.910718Z",
     "iopub.status.idle": "2020-10-05T01:19:17.922817Z",
     "shell.execute_reply": "2020-10-05T01:19:17.922112Z"
    },
    "papermill": {
     "duration": 0.074348,
     "end_time": "2020-10-05T01:19:17.922934",
     "exception": false,
     "start_time": "2020-10-05T01:19:17.848586",
     "status": "completed"
    },
    "tags": []
   },
   "execution_count": 17,
   "outputs": [
    {
     "execution_count": 17,
     "output_type": "execute_result",
     "data": {
      "text/plain": [
       "[('11mths+', 0.7566927671432495),\n",
       " ('received', 0.7357529401779175),\n",
       " ('ultimatum', 0.7274703979492188),\n",
       " ('brain', 0.724571704864502),\n",
       " ('haughaighgtujhyguj', 0.7183928489685059),\n",
       " ('been', 0.7129004597663879),\n",
       " ('denying', 0.7097295522689819),\n",
       " ('hahaha..use', 0.7089126110076904),\n",
       " ('bookedthe', 0.7022557258605957),\n",
       " ('lot..i', 0.7003313302993774)]"
      ]
     },
     "metadata": {}
    }
   ]
  },
  {
   "cell_type": "code",
   "source": [
    "d2v_model.wv.most_similar(positive=['cherish'], topn=10)\n"
   ],
   "metadata": {
    "execution": {
     "iopub.execute_input": "2020-10-05T01:19:18.045125Z",
     "iopub.status.busy": "2020-10-05T01:19:18.044197Z",
     "iopub.status.idle": "2020-10-05T01:19:18.050376Z",
     "shell.execute_reply": "2020-10-05T01:19:18.049834Z"
    },
    "papermill": {
     "duration": 0.070818,
     "end_time": "2020-10-05T01:19:18.050488",
     "exception": false,
     "start_time": "2020-10-05T01:19:17.979670",
     "status": "completed"
    },
    "tags": []
   },
   "execution_count": 18,
   "outputs": [
    {
     "execution_count": 18,
     "output_type": "execute_result",
     "data": {
      "text/plain": [
       "[('intrepid', 0.8405887484550476),\n",
       " ('mojibiola', 0.7767326831817627),\n",
       " ('thank', 0.7729716897010803),\n",
       " ('knees', 0.725476086139679),\n",
       " ('enjoyed', 0.7111902236938477),\n",
       " ('dawns', 0.7011476755142212),\n",
       " ('pee', 0.6912188529968262),\n",
       " ('duo', 0.6908860206604004),\n",
       " ('hut', 0.6888827085494995),\n",
       " ('urgent', 0.6856852769851685)]"
      ]
     },
     "metadata": {}
    }
   ]
  },
  {
   "cell_type": "markdown",
   "source": [
    "# Create the LSTM Model\n",
    "\n",
    "The parameter used here inspired by [3].\n",
    "\n"
   ],
   "metadata": {
    "papermill": {
     "duration": 0.057228,
     "end_time": "2020-10-05T01:19:18.165925",
     "exception": false,
     "start_time": "2020-10-05T01:19:18.108697",
     "status": "completed"
    },
    "tags": []
   }
  },
  {
   "cell_type": "code",
   "source": [
    "from keras.models import Sequential\n",
    "from keras.layers import LSTM, Dense, Embedding\n",
    "\n",
    "\n",
    "# init layer\n",
    "model = Sequential()\n",
    "\n",
    "# emmbed word vectors\n",
    "model.add(Embedding(len(d2v_model.wv.vocab)+1,20,input_length=X.shape[1],weights=[embedding_matrix],trainable=True))\n",
    "\n",
    "# learn the correlations\n",
    "def split_input(sequence):\n",
    "     return sequence[:-1], tf.reshape(sequence[1:], (-1,1))\n",
    "model.add(LSTM(50,return_sequences=False))\n",
    "model.add(Dense(2,activation=\"softmax\"))\n",
    "\n",
    "# output model skeleton\n",
    "model.summary()\n",
    "model.compile(optimizer=\"adam\",loss=\"binary_crossentropy\",metrics=['acc'])"
   ],
   "metadata": {
    "execution": {
     "iopub.execute_input": "2020-10-05T01:19:18.290022Z",
     "iopub.status.busy": "2020-10-05T01:19:18.289220Z",
     "iopub.status.idle": "2020-10-05T01:19:18.769926Z",
     "shell.execute_reply": "2020-10-05T01:19:18.769384Z"
    },
    "papermill": {
     "duration": 0.54651,
     "end_time": "2020-10-05T01:19:18.770035",
     "exception": false,
     "start_time": "2020-10-05T01:19:18.223525",
     "status": "completed"
    },
    "tags": []
   },
   "execution_count": 19,
   "outputs": [
    {
     "name": "stdout",
     "output_type": "stream",
     "text": "Model: \"sequential\"\n\n_________________________________________________________________\n\nLayer (type)                 Output Shape              Param #   \n\n=================================================================\n\nembedding (Embedding)        (None, 50, 20)            195160    \n\n_________________________________________________________________\n\nlstm (LSTM)                  (None, 50)                14200     \n\n_________________________________________________________________\n\ndense (Dense)                (None, 2)                 102       \n\n=================================================================\n\nTotal params: 209,462\n\nTrainable params: 209,462\n\nNon-trainable params: 0\n\n_________________________________________________________________\n"
    }
   ]
  },
  {
   "cell_type": "code",
   "source": [
    "from keras.utils import plot_model\n",
    "plot_model(model, to_file='model.png')"
   ],
   "metadata": {
    "execution": {
     "iopub.execute_input": "2020-10-05T01:19:18.890903Z",
     "iopub.status.busy": "2020-10-05T01:19:18.890223Z",
     "iopub.status.idle": "2020-10-05T01:19:19.468055Z",
     "shell.execute_reply": "2020-10-05T01:19:19.467419Z"
    },
    "papermill": {
     "duration": 0.641169,
     "end_time": "2020-10-05T01:19:19.468168",
     "exception": false,
     "start_time": "2020-10-05T01:19:18.826999",
     "status": "completed"
    },
    "tags": []
   },
   "execution_count": 20,
   "outputs": [
    {
     "execution_count": 20,
     "output_type": "execute_result",
     "data": {
      "image/png": "[encoded data removed]",
      "text/plain": [
       "<IPython.core.display.Image object>"
      ]
     },
     "metadata": {}
    }
   ]
  },
  {
   "cell_type": "code",
   "source": [
    "Y = pd.get_dummies(df['Category']).values\n",
    "X_train, X_test, Y_train, Y_test = train_test_split(X,Y, test_size = 0.15, random_state = 42)\n",
    "print(X_train.shape,Y_train.shape)\n",
    "print(X_test.shape,Y_test.shape)"
   ],
   "metadata": {
    "execution": {
     "iopub.execute_input": "2020-10-05T01:19:19.592582Z",
     "iopub.status.busy": "2020-10-05T01:19:19.591805Z",
     "iopub.status.idle": "2020-10-05T01:19:19.600008Z",
     "shell.execute_reply": "2020-10-05T01:19:19.600480Z"
    },
    "papermill": {
     "duration": 0.073975,
     "end_time": "2020-10-05T01:19:19.600639",
     "exception": false,
     "start_time": "2020-10-05T01:19:19.526664",
     "status": "completed"
    },
    "tags": []
   },
   "execution_count": 21,
   "outputs": [
    {
     "name": "stdout",
     "output_type": "stream",
     "text": "(4736, 50) (4736, 2)\n\n(836, 50) (836, 2)\n"
    }
   ]
  },
  {
   "cell_type": "code",
   "source": [
    "batch_size = 32\n",
    "history=model.fit(X_train, Y_train, epochs =50, batch_size=batch_size, verbose = 2)"
   ],
   "metadata": {
    "execution": {
     "iopub.execute_input": "2020-10-05T01:19:19.723478Z",
     "iopub.status.busy": "2020-10-05T01:19:19.722804Z",
     "iopub.status.idle": "2020-10-05T01:21:25.543691Z",
     "shell.execute_reply": "2020-10-05T01:21:25.542960Z"
    },
    "papermill": {
     "duration": 125.885256,
     "end_time": "2020-10-05T01:21:25.543826",
     "exception": false,
     "start_time": "2020-10-05T01:19:19.658570",
     "status": "completed"
    },
    "tags": []
   },
   "execution_count": 22,
   "outputs": [
    {
     "name": "stdout",
     "output_type": "stream",
     "text": "Epoch 1/50\n\n148/148 - 2s - loss: 0.2365 - acc: 0.9191\n\nEpoch 2/50\n\n148/148 - 2s - loss: 0.0401 - acc: 0.9901\n\nEpoch 3/50\n\n148/148 - 3s - loss: 0.0157 - acc: 0.9962\n\nEpoch 4/50\n\n148/148 - 3s - loss: 0.0087 - acc: 0.9973\n\nEpoch 5/50\n\n148/148 - 3s - loss: 0.0036 - acc: 0.9992\n\nEpoch 6/50\n\n148/148 - 3s - loss: 0.0015 - acc: 0.9996\n\nEpoch 7/50\n\n148/148 - 3s - loss: 0.0023 - acc: 0.9994\n\nEpoch 8/50\n\n148/148 - 3s - loss: 0.0011 - acc: 0.9998\n\nEpoch 9/50\n\n148/148 - 3s - loss: 6.2552e-04 - acc: 1.0000\n\nEpoch 10/50\n\n148/148 - 3s - loss: 4.2979e-04 - acc: 1.0000\n\nEpoch 11/50\n\n148/148 - 3s - loss: 2.8563e-04 - acc: 1.0000\n\nEpoch 12/50\n\n148/148 - 3s - loss: 3.0239e-04 - acc: 1.0000\n\nEpoch 13/50\n\n148/148 - 3s - loss: 2.1977e-04 - acc: 1.0000\n\nEpoch 14/50\n\n148/148 - 2s - loss: 1.9864e-04 - acc: 1.0000\n\nEpoch 15/50\n\n148/148 - 2s - loss: 1.6579e-04 - acc: 1.0000\n\nEpoch 16/50\n\n148/148 - 3s - loss: 1.3074e-04 - acc: 1.0000\n\nEpoch 17/50\n\n148/148 - 3s - loss: 9.8520e-05 - acc: 1.0000\n\nEpoch 18/50\n\n148/148 - 2s - loss: 7.3838e-05 - acc: 1.0000\n\nEpoch 19/50\n\n148/148 - 2s - loss: 7.8766e-05 - acc: 1.0000\n\nEpoch 20/50\n\n148/148 - 2s - loss: 4.8429e-05 - acc: 1.0000\n\nEpoch 21/50\n\n148/148 - 2s - loss: 0.0062 - acc: 0.9983\n\nEpoch 22/50\n\n148/148 - 2s - loss: 0.0052 - acc: 0.9985\n\nEpoch 23/50\n\n148/148 - 2s - loss: 0.0027 - acc: 0.9992\n\nEpoch 24/50\n\n148/148 - 2s - loss: 3.9407e-04 - acc: 1.0000\n\nEpoch 25/50\n\n148/148 - 2s - loss: 1.6378e-04 - acc: 1.0000\n\nEpoch 26/50\n\n148/148 - 2s - loss: 1.1516e-04 - acc: 1.0000\n\nEpoch 27/50\n\n148/148 - 2s - loss: 8.8055e-05 - acc: 1.0000\n\nEpoch 28/50\n\n148/148 - 2s - loss: 6.9462e-05 - acc: 1.0000\n\nEpoch 29/50\n\n148/148 - 2s - loss: 5.6951e-05 - acc: 1.0000\n\nEpoch 30/50\n\n148/148 - 2s - loss: 4.7622e-05 - acc: 1.0000\n\nEpoch 31/50\n\n148/148 - 2s - loss: 4.0715e-05 - acc: 1.0000\n\nEpoch 32/50\n\n148/148 - 2s - loss: 3.4713e-05 - acc: 1.0000\n\nEpoch 33/50\n\n148/148 - 2s - loss: 2.9955e-05 - acc: 1.0000\n\nEpoch 34/50\n\n148/148 - 2s - loss: 2.6109e-05 - acc: 1.0000\n\nEpoch 35/50\n\n148/148 - 2s - loss: 2.3001e-05 - acc: 1.0000\n\nEpoch 36/50\n\n148/148 - 2s - loss: 2.0234e-05 - acc: 1.0000\n\nEpoch 37/50\n\n148/148 - 2s - loss: 1.7799e-05 - acc: 1.0000\n\nEpoch 38/50\n\n148/148 - 2s - loss: 1.5937e-05 - acc: 1.0000\n\nEpoch 39/50\n\n148/148 - 2s - loss: 1.4285e-05 - acc: 1.0000\n\nEpoch 40/50\n\n148/148 - 2s - loss: 1.2767e-05 - acc: 1.0000\n\nEpoch 41/50\n\n148/148 - 2s - loss: 1.1336e-05 - acc: 1.0000\n\nEpoch 42/50\n\n148/148 - 3s - loss: 1.0281e-05 - acc: 1.0000\n\nEpoch 43/50\n\n148/148 - 3s - loss: 9.1897e-06 - acc: 1.0000\n\nEpoch 44/50\n\n148/148 - 2s - loss: 8.3137e-06 - acc: 1.0000\n\nEpoch 45/50\n\n148/148 - 2s - loss: 7.4629e-06 - acc: 1.0000\n\nEpoch 46/50\n\n148/148 - 2s - loss: 6.6862e-06 - acc: 1.0000\n\nEpoch 47/50\n\n148/148 - 2s - loss: 6.0943e-06 - acc: 1.0000\n\nEpoch 48/50\n\n148/148 - 2s - loss: 5.4797e-06 - acc: 1.0000\n\nEpoch 49/50\n\n148/148 - 2s - loss: 5.0434e-06 - acc: 1.0000\n\nEpoch 50/50\n\n148/148 - 2s - loss: 4.5421e-06 - acc: 1.0000\n"
    }
   ]
  },
  {
   "cell_type": "code",
   "source": [
    "plt.plot(history.history['acc'])\n",
    "plt.title('model accuracy')\n",
    "plt.ylabel('acc')\n",
    "plt.xlabel('epochs')\n",
    "plt.legend(['train', 'test'], loc='upper left')\n",
    "plt.show()\n",
    "plt.savefig('model_accuracy.png')\n",
    "\n",
    "# summarize history for loss\n",
    "plt.plot(history.history['loss'])\n",
    "#plt.plot(history.history['val_loss'])\n",
    "plt.title('model loss')\n",
    "plt.ylabel('loss')\n",
    "plt.xlabel('epochs')\n",
    "plt.legend(['train', 'test'], loc='upper left')\n",
    "plt.show()\n",
    "plt.savefig('model_loss.png')"
   ],
   "metadata": {
    "execution": {
     "iopub.execute_input": "2020-10-05T01:21:25.729387Z",
     "iopub.status.busy": "2020-10-05T01:21:25.728399Z",
     "iopub.status.idle": "2020-10-05T01:21:26.027345Z",
     "shell.execute_reply": "2020-10-05T01:21:26.026669Z"
    },
    "papermill": {
     "duration": 0.398548,
     "end_time": "2020-10-05T01:21:26.027463",
     "exception": false,
     "start_time": "2020-10-05T01:21:25.628915",
     "status": "completed"
    },
    "tags": []
   },
   "execution_count": 23,
   "outputs": [
    {
     "output_type": "display_data",
     "data": {
      "image/png": "[encoded data removed]",
      "text/plain": [
       "<Figure size 432x288 with 1 Axes>"
      ]
     },
     "metadata": {
      "needs_background": "light"
     }
    },
    {
     "output_type": "display_data",
     "data": {
      "image/png": "[encoded data removed]",
      "text/plain": [
       "<Figure size 432x288 with 1 Axes>"
      ]
     },
     "metadata": {
      "needs_background": "light"
     }
    },
    {
     "output_type": "display_data",
     "data": {
      "text/plain": [
       "<Figure size 432x288 with 0 Axes>"
      ]
     },
     "metadata": {}
    }
   ]
  },
  {
   "cell_type": "code",
   "source": [
    "# evaluate the model\n",
    "_, train_acc = model.evaluate(X_train, Y_train, verbose=2)\n",
    "_, test_acc = model.evaluate(X_test, Y_test, verbose=2)\n",
    "print('Train: %.3f, Test: %.4f' % (train_acc, test_acc))"
   ],
   "metadata": {
    "execution": {
     "iopub.execute_input": "2020-10-05T01:21:26.206672Z",
     "iopub.status.busy": "2020-10-05T01:21:26.205744Z",
     "iopub.status.idle": "2020-10-05T01:21:28.117947Z",
     "shell.execute_reply": "2020-10-05T01:21:28.117200Z"
    },
    "papermill": {
     "duration": 2.004721,
     "end_time": "2020-10-05T01:21:28.118085",
     "exception": false,
     "start_time": "2020-10-05T01:21:26.113364",
     "status": "completed"
    },
    "tags": []
   },
   "execution_count": 24,
   "outputs": [
    {
     "name": "stdout",
     "output_type": "stream",
     "text": "148/148 - 1s - loss: 4.2103e-06 - acc: 1.0000\n\n27/27 - 0s - loss: 0.0973 - acc: 0.9880\n\nTrain: 1.000, Test: 0.9880\n"
    }
   ]
  },
  {
   "cell_type": "code",
   "source": [
    "# predict probabilities for test set\n",
    "yhat_probs = model.predict(X_test, verbose=0)\n",
    "print(yhat_probs)\n",
    "# predict crisp classes for test set\n",
    "yhat_classes = model.predict_classes(X_test, verbose=0)\n",
    "print(yhat_classes)\n",
    "# reduce to 1d array\n",
    "yhat_probs = yhat_probs[:, 0]\n",
    "#yhat_classes = yhat_classes[:, 1"
   ],
   "metadata": {
    "execution": {
     "iopub.execute_input": "2020-10-05T01:21:28.300463Z",
     "iopub.status.busy": "2020-10-05T01:21:28.299499Z",
     "iopub.status.idle": "2020-10-05T01:21:29.006904Z",
     "shell.execute_reply": "2020-10-05T01:21:29.006054Z"
    },
    "papermill": {
     "duration": 0.801117,
     "end_time": "2020-10-05T01:21:29.007032",
     "exception": false,
     "start_time": "2020-10-05T01:21:28.205915",
     "status": "completed"
    },
    "tags": []
   },
   "execution_count": 25,
   "outputs": [
    {
     "name": "stdout",
     "output_type": "stream",
     "text": "[[9.9999976e-01 1.8440993e-07]\n\n [9.9999869e-01 1.3441303e-06]\n\n [9.9999928e-01 7.6641811e-07]\n\n ...\n\n [9.9999964e-01 3.9340065e-07]\n\n [9.9999988e-01 8.5513342e-08]\n\n [9.9999809e-01 1.9259865e-06]]\n\n[0 0 0 0 0 0 0 0 0 0 0 0 0 0 1 0 0 0 0 0 0 0 0 0 1 0 0 0 0 0 0 0 0 0 0 0 0\n\n 0 0 0 0 0 0 0 0 0 0 1 0 0 0 1 0 0 0 0 0 0 0 0 1 0 1 0 0 0 0 0 0 0 1 0 1 1\n\n 1 1 0 0 0 0 0 0 0 0 1 0 0 0 0 0 0 0 0 0 0 0 0 0 0 0 0 0 0 0 0 0 0 0 0 0 0\n\n 0 0 0 0 1 0 0 0 1 0 0 0 0 0 0 0 0 0 1 0 0 0 0 0 0 0 0 0 0 0 0 0 0 0 0 1 0\n\n 0 0 0 0 0 0 0 0 0 0 0 0 0 0 0 0 0 0 1 1 0 0 0 0 0 0 0 0 0 0 0 0 0 0 0 0 0\n\n 0 0 0 0 0 0 0 0 0 0 0 0 0 0 0 0 0 0 0 0 0 0 0 1 0 0 1 0 0 0 0 0 0 0 0 0 1\n\n 0 0 0 0 0 0 0 0 0 0 0 0 0 0 1 0 1 0 1 0 0 1 0 0 0 0 0 0 0 1 0 0 0 0 0 0 0\n\n 1 1 0 0 0 0 0 0 0 0 0 0 0 0 0 0 0 0 0 0 0 1 0 0 0 0 0 0 1 0 0 0 1 1 0 0 0\n\n 0 1 0 1 0 0 0 0 0 0 0 1 0 0 0 0 0 0 1 0 0 0 0 0 0 0 0 0 0 0 1 0 0 0 0 0 0\n\n 0 0 0 0 1 1 0 0 0 0 0 1 0 0 0 0 0 0 0 0 0 0 0 0 1 0 0 0 0 0 0 0 0 0 0 0 0\n\n 0 0 0 0 0 0 0 0 0 0 0 0 0 0 0 0 0 0 0 0 0 0 0 1 0 1 0 0 0 0 0 0 0 0 0 1 0\n\n 0 1 0 0 0 0 0 0 0 0 0 0 0 0 0 0 0 0 0 1 0 0 1 0 0 0 0 0 0 1 0 0 0 1 0 0 0\n\n 1 0 0 0 0 0 0 1 0 0 1 0 0 0 0 0 0 1 0 0 0 0 0 0 0 0 1 0 0 0 0 0 0 0 0 0 0\n\n 1 0 0 0 0 0 0 0 1 0 0 0 0 1 0 0 1 0 0 0 0 0 0 0 0 0 0 0 0 0 0 0 0 0 0 0 0\n\n 1 1 0 0 0 0 0 0 0 0 0 0 0 0 0 0 0 0 0 0 0 1 0 1 0 1 1 1 0 0 0 0 0 1 1 0 0\n\n 0 0 0 0 0 0 1 0 1 0 0 0 0 0 0 0 0 0 0 0 0 1 0 0 0 0 0 0 0 0 1 0 0 0 0 0 0\n\n 0 0 0 0 0 0 0 0 0 0 0 0 0 0 0 0 0 0 1 1 0 0 0 0 0 1 0 0 0 0 0 0 0 0 0 0 0\n\n 0 0 0 0 0 0 0 0 0 0 0 0 0 0 1 0 0 0 1 0 0 0 0 1 0 0 0 0 0 0 0 0 0 0 0 0 0\n\n 0 0 0 0 0 0 0 0 0 0 0 0 1 0 0 1 0 0 0 0 0 0 0 0 0 0 0 0 0 0 0 0 0 0 0 0 0\n\n 0 0 0 0 0 0 0 0 0 0 0 0 0 0 0 0 0 0 0 0 0 1 0 0 0 0 0 1 1 0 0 0 0 0 0 0 0\n\n 0 1 0 0 0 0 0 0 0 0 0 0 0 1 0 1 0 0 0 0 0 0 1 0 0 0 0 0 0 0 0 0 0 1 0 0 0\n\n 0 0 0 1 0 1 0 1 0 0 0 0 0 0 0 0 0 1 1 0 0 0 0 0 1 1 0 0 0 0 1 0 0 0 0 0 0\n\n 0 1 1 1 0 1 0 0 0 0 0 0 0 0 0 0 1 1 0 0 0 0]\n"
    }
   ]
  },
  {
   "cell_type": "code",
   "source": [
    "import numpy as np\n",
    "rounded_labels=np.argmax(Y_test, axis=1)\n",
    "rounded_labels"
   ],
   "metadata": {
    "execution": {
     "iopub.execute_input": "2020-10-05T01:21:29.191224Z",
     "iopub.status.busy": "2020-10-05T01:21:29.190422Z",
     "iopub.status.idle": "2020-10-05T01:21:29.194988Z",
     "shell.execute_reply": "2020-10-05T01:21:29.194467Z"
    },
    "papermill": {
     "duration": 0.100661,
     "end_time": "2020-10-05T01:21:29.195099",
     "exception": false,
     "start_time": "2020-10-05T01:21:29.094438",
     "status": "completed"
    },
    "tags": []
   },
   "execution_count": 26,
   "outputs": [
    {
     "execution_count": 26,
     "output_type": "execute_result",
     "data": {
      "text/plain": [
       "array([0, 0, 0, 0, 0, 0, 0, 0, 0, 0, 0, 0, 0, 0, 1, 0, 0, 0, 0, 0, 0, 0,\n",
       "       0, 0, 1, 0, 0, 0, 0, 0, 0, 0, 0, 0, 0, 0, 0, 0, 0, 0, 1, 0, 0, 0,\n",
       "       0, 0, 0, 1, 0, 0, 0, 1, 0, 0, 0, 0, 0, 0, 0, 0, 1, 0, 1, 0, 0, 0,\n",
       "       0, 0, 0, 0, 1, 0, 1, 1, 1, 1, 0, 0, 0, 0, 0, 0, 0, 0, 1, 0, 0, 0,\n",
       "       0, 0, 0, 0, 0, 0, 0, 0, 0, 0, 0, 0, 0, 0, 0, 0, 0, 0, 0, 0, 0, 0,\n",
       "       0, 0, 0, 0, 0, 1, 0, 0, 0, 1, 0, 0, 0, 0, 0, 0, 0, 0, 0, 1, 0, 0,\n",
       "       0, 0, 0, 0, 0, 0, 0, 0, 0, 0, 0, 0, 0, 0, 1, 0, 0, 0, 0, 0, 0, 0,\n",
       "       0, 0, 0, 0, 0, 0, 1, 0, 0, 0, 0, 0, 1, 1, 0, 0, 0, 0, 0, 0, 0, 0,\n",
       "       0, 0, 0, 0, 0, 0, 0, 0, 0, 0, 0, 0, 0, 0, 0, 0, 0, 0, 0, 0, 0, 0,\n",
       "       0, 0, 0, 0, 0, 0, 0, 0, 0, 0, 1, 0, 0, 1, 0, 0, 0, 0, 0, 0, 0, 0,\n",
       "       0, 1, 0, 0, 0, 0, 0, 0, 0, 0, 0, 0, 0, 0, 1, 0, 1, 0, 1, 0, 1, 0,\n",
       "       0, 1, 0, 0, 0, 0, 0, 0, 0, 1, 0, 0, 0, 0, 0, 0, 0, 1, 1, 0, 0, 0,\n",
       "       0, 0, 0, 0, 0, 0, 0, 0, 1, 0, 0, 0, 0, 0, 0, 0, 1, 0, 0, 0, 0, 0,\n",
       "       0, 1, 0, 0, 0, 1, 1, 0, 0, 0, 0, 1, 0, 1, 0, 0, 0, 0, 0, 0, 0, 1,\n",
       "       0, 0, 0, 0, 0, 0, 1, 0, 0, 0, 0, 0, 0, 0, 0, 0, 1, 0, 1, 0, 0, 0,\n",
       "       0, 0, 0, 0, 0, 0, 0, 0, 1, 0, 0, 0, 0, 0, 1, 0, 0, 0, 0, 0, 0, 0,\n",
       "       0, 0, 0, 0, 0, 1, 0, 0, 0, 0, 0, 0, 0, 0, 0, 0, 0, 0, 0, 0, 0, 0,\n",
       "       0, 0, 0, 0, 0, 0, 0, 0, 0, 0, 0, 0, 0, 0, 0, 0, 0, 0, 0, 1, 0, 1,\n",
       "       0, 0, 0, 0, 0, 0, 0, 0, 0, 1, 0, 0, 1, 0, 0, 0, 0, 0, 0, 0, 0, 0,\n",
       "       0, 0, 0, 0, 0, 0, 0, 0, 1, 0, 0, 1, 0, 0, 0, 0, 0, 0, 1, 0, 0, 0,\n",
       "       1, 0, 0, 0, 1, 0, 0, 0, 0, 0, 0, 1, 0, 0, 1, 0, 0, 0, 0, 0, 0, 1,\n",
       "       0, 0, 0, 0, 0, 0, 0, 0, 1, 0, 0, 0, 0, 0, 0, 0, 0, 0, 0, 1, 0, 0,\n",
       "       0, 0, 0, 0, 0, 1, 0, 0, 0, 0, 1, 0, 0, 1, 0, 0, 0, 0, 0, 0, 0, 0,\n",
       "       0, 0, 0, 0, 0, 0, 0, 0, 0, 0, 0, 0, 1, 1, 0, 0, 0, 0, 0, 0, 0, 0,\n",
       "       0, 0, 1, 0, 0, 0, 0, 0, 0, 0, 0, 1, 0, 1, 0, 1, 1, 1, 0, 0, 0, 0,\n",
       "       1, 1, 1, 0, 0, 0, 0, 0, 0, 0, 0, 1, 0, 1, 0, 0, 0, 0, 0, 0, 0, 0,\n",
       "       0, 0, 0, 0, 1, 0, 0, 0, 0, 0, 0, 0, 0, 1, 0, 0, 0, 0, 0, 0, 0, 0,\n",
       "       0, 0, 0, 0, 0, 0, 0, 0, 0, 0, 0, 0, 0, 0, 0, 0, 1, 1, 0, 0, 0, 0,\n",
       "       0, 1, 0, 0, 0, 0, 0, 0, 0, 0, 0, 0, 0, 0, 0, 0, 0, 0, 0, 1, 0, 0,\n",
       "       0, 0, 0, 0, 0, 1, 0, 0, 0, 1, 0, 0, 0, 0, 1, 0, 0, 0, 0, 0, 0, 0,\n",
       "       0, 0, 0, 0, 0, 0, 0, 0, 0, 0, 0, 0, 0, 0, 0, 0, 0, 0, 1, 0, 0, 1,\n",
       "       0, 0, 0, 0, 0, 0, 0, 0, 0, 0, 0, 0, 0, 0, 0, 0, 0, 0, 0, 0, 0, 0,\n",
       "       0, 0, 0, 0, 0, 0, 0, 0, 0, 0, 0, 0, 0, 0, 0, 0, 0, 0, 0, 0, 1, 0,\n",
       "       0, 0, 0, 0, 1, 1, 0, 0, 0, 0, 0, 0, 0, 0, 0, 1, 0, 0, 0, 0, 0, 0,\n",
       "       0, 0, 0, 0, 0, 1, 0, 1, 0, 0, 0, 0, 0, 0, 1, 0, 0, 0, 0, 0, 0, 0,\n",
       "       0, 0, 0, 1, 0, 0, 0, 0, 0, 0, 1, 0, 1, 0, 1, 0, 0, 0, 0, 0, 0, 0,\n",
       "       0, 0, 1, 1, 0, 0, 0, 0, 0, 1, 1, 0, 0, 0, 0, 0, 0, 0, 0, 0, 0, 0,\n",
       "       0, 1, 1, 1, 0, 1, 0, 0, 0, 0, 0, 0, 0, 0, 0, 0, 1, 1, 0, 0, 0, 0])"
      ]
     },
     "metadata": {}
    }
   ]
  },
  {
   "cell_type": "code",
   "source": [
    "from sklearn.metrics import confusion_matrix\n",
    "cm = confusion_matrix(rounded_labels, yhat_classes)\n",
    "cm"
   ],
   "metadata": {
    "execution": {
     "iopub.execute_input": "2020-10-05T01:21:29.378285Z",
     "iopub.status.busy": "2020-10-05T01:21:29.377634Z",
     "iopub.status.idle": "2020-10-05T01:21:29.386496Z",
     "shell.execute_reply": "2020-10-05T01:21:29.385863Z"
    },
    "papermill": {
     "duration": 0.102667,
     "end_time": "2020-10-05T01:21:29.386607",
     "exception": false,
     "start_time": "2020-10-05T01:21:29.283940",
     "status": "completed"
    },
    "tags": []
   },
   "execution_count": 27,
   "outputs": [
    {
     "execution_count": 27,
     "output_type": "execute_result",
     "data": {
      "text/plain": [
       "array([[727,   2],\n",
       "       [  8,  99]])"
      ]
     },
     "metadata": {}
    }
   ]
  },
  {
   "cell_type": "code",
   "source": [
    "# The confusion matrix\n",
    "from sklearn.metrics import confusion_matrix\n",
    "import seaborn as sns\n",
    "\n",
    "lstm_val = confusion_matrix(rounded_labels, yhat_classes)\n",
    "f, ax = plt.subplots(figsize=(5,5))\n",
    "sns.heatmap(lstm_val, annot=True, linewidth=0.7, linecolor='cyan', fmt='g', ax=ax, cmap=\"BuPu\")\n",
    "plt.title('LSTM Classification Confusion Matrix')\n",
    "plt.xlabel('Y predict')\n",
    "plt.ylabel('Y test')\n",
    "plt.show()"
   ],
   "metadata": {
    "execution": {
     "iopub.execute_input": "2020-10-05T01:21:29.609757Z",
     "iopub.status.busy": "2020-10-05T01:21:29.609106Z",
     "iopub.status.idle": "2020-10-05T01:21:29.785727Z",
     "shell.execute_reply": "2020-10-05T01:21:29.785174Z"
    },
    "papermill": {
     "duration": 0.274994,
     "end_time": "2020-10-05T01:21:29.785850",
     "exception": false,
     "start_time": "2020-10-05T01:21:29.510856",
     "status": "completed"
    },
    "tags": []
   },
   "execution_count": 28,
   "outputs": [
    {
     "output_type": "display_data",
     "data": {
      "image/png": "[encoded data removed]",
      "text/plain": [
       "<Figure size 360x360 with 2 Axes>"
      ]
     },
     "metadata": {
      "needs_background": "light"
     }
    }
   ]
  },
  {
   "cell_type": "code",
   "source": [
    "validation_size = 200\n",
    "\n",
    "X_validate = X_test[-validation_size:]\n",
    "Y_validate = Y_test[-validation_size:]\n",
    "X_test = X_test[:-validation_size]\n",
    "Y_test = Y_test[:-validation_size]\n",
    "score,acc = model.evaluate(X_test, Y_test, verbose = 1, batch_size = batch_size)\n",
    "\n",
    "print(\"score: %.2f\" % (score))\n",
    "print(\"acc: %.2f\" % (acc))"
   ],
   "metadata": {
    "execution": {
     "iopub.execute_input": "2020-10-05T01:21:29.971724Z",
     "iopub.status.busy": "2020-10-05T01:21:29.970793Z",
     "iopub.status.idle": "2020-10-05T01:21:30.139222Z",
     "shell.execute_reply": "2020-10-05T01:21:30.138618Z"
    },
    "papermill": {
     "duration": 0.264325,
     "end_time": "2020-10-05T01:21:30.139378",
     "exception": false,
     "start_time": "2020-10-05T01:21:29.875053",
     "status": "completed"
    },
    "tags": []
   },
   "execution_count": 29,
   "outputs": [
    {
     "name": "stdout",
     "output_type": "stream",
     "text": "20/20 [==============================] - 0s 6ms/step - loss: 0.1248 - acc: 0.9858\n\nscore: 0.12\n\nacc: 0.99\n"
    }
   ]
  },
  {
   "cell_type": "markdown",
   "source": [
    "**Save Model**\n"
   ],
   "metadata": {
    "papermill": {
     "duration": 0.09076,
     "end_time": "2020-10-05T01:21:30.321138",
     "exception": false,
     "start_time": "2020-10-05T01:21:30.230378",
     "status": "completed"
    },
    "tags": []
   }
  },
  {
   "cell_type": "code",
   "source": [
    "\n",
    "model.save('Mymodel.h5')"
   ],
   "metadata": {
    "execution": {
     "iopub.execute_input": "2020-10-05T01:21:30.520966Z",
     "iopub.status.busy": "2020-10-05T01:21:30.520267Z",
     "iopub.status.idle": "2020-10-05T01:21:30.543680Z",
     "shell.execute_reply": "2020-10-05T01:21:30.543068Z"
    },
    "papermill": {
     "duration": 0.126922,
     "end_time": "2020-10-05T01:21:30.543805",
     "exception": false,
     "start_time": "2020-10-05T01:21:30.416883",
     "status": "completed"
    },
    "tags": []
   },
   "execution_count": 30,
   "outputs": []
  },
  {
   "cell_type": "markdown",
   "source": [
    "**Test with new and different data set aside from the data to build the model.**"
   ],
   "metadata": {
    "papermill": {
     "duration": 0.089611,
     "end_time": "2020-10-05T01:21:30.723508",
     "exception": false,
     "start_time": "2020-10-05T01:21:30.633897",
     "status": "completed"
    },
    "tags": []
   }
  },
  {
   "cell_type": "code",
   "source": [
    "message = ['Congratulations! you have won a $1,000 Walmart gift card. Go to http://bit.ly/123456 to claim now.']\n",
    "seq = tokenizer.texts_to_sequences(message)\n",
    "\n",
    "padded = pad_sequences(seq, maxlen=X.shape[1], dtype='int32', value=0)\n",
    "\n",
    "pred = model.predict(padded)\n",
    "\n",
    "labels = ['ham','spam']\n",
    "print(pred, labels[np.argmax(pred)])"
   ],
   "metadata": {
    "execution": {
     "iopub.execute_input": "2020-10-05T01:21:30.910914Z",
     "iopub.status.busy": "2020-10-05T01:21:30.909943Z",
     "iopub.status.idle": "2020-10-05T01:21:30.951772Z",
     "shell.execute_reply": "2020-10-05T01:21:30.952288Z"
    },
    "papermill": {
     "duration": 0.139045,
     "end_time": "2020-10-05T01:21:30.952454",
     "exception": false,
     "start_time": "2020-10-05T01:21:30.813409",
     "status": "completed"
    },
    "tags": []
   },
   "execution_count": 31,
   "outputs": [
    {
     "name": "stdout",
     "output_type": "stream",
     "text": "[[0.10068891 0.89931107]] spam\n"
    }
   ]
  },
  {
   "cell_type": "code",
   "source": [
    "message = ['thanks for accepting my request to connect']\n",
    "seq = tokenizer.texts_to_sequences(message)\n",
    "\n",
    "padded = pad_sequences(seq, maxlen=X.shape[1], dtype='int32', value=0)\n",
    "\n",
    "pred = model.predict(padded)\n",
    "\n",
    "labels = ['ham','spam']\n",
    "print(pred, labels[np.argmax(pred)])"
   ],
   "metadata": {
    "execution": {
     "iopub.execute_input": "2020-10-05T01:21:31.142988Z",
     "iopub.status.busy": "2020-10-05T01:21:31.142316Z",
     "iopub.status.idle": "2020-10-05T01:21:31.185788Z",
     "shell.execute_reply": "2020-10-05T01:21:31.184921Z"
    },
    "papermill": {
     "duration": 0.141443,
     "end_time": "2020-10-05T01:21:31.185934",
     "exception": false,
     "start_time": "2020-10-05T01:21:31.044491",
     "status": "completed"
    },
    "tags": []
   },
   "execution_count": 32,
   "outputs": [
    {
     "name": "stdout",
     "output_type": "stream",
     "text": "[[9.999981e-01 1.965969e-06]] ham\n"
    }
   ]
  }
 ]
}
